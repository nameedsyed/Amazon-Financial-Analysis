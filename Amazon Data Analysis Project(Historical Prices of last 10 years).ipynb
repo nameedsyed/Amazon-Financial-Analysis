{
 "cells": [
  {
   "cell_type": "markdown",
   "id": "8e045262",
   "metadata": {},
   "source": [
    "# Importing Necessary libraries\n",
    "import pandas as pd\n",
    "import matplotlib.pyplot as plt"
   ]
  },
  {
   "cell_type": "code",
   "execution_count": 2,
   "id": "5d6f2937",
   "metadata": {},
   "outputs": [],
   "source": [
    "data = pd.read_csv('C:\\\\Users\\\\Casa SSD\\\\Desktop\\\\Amazon Dataset\\\\amzn.csv')"
   ]
  },
  {
   "cell_type": "code",
   "execution_count": 3,
   "id": "4763d237",
   "metadata": {},
   "outputs": [
    {
     "data": {
      "text/html": [
       "<div>\n",
       "<style scoped>\n",
       "    .dataframe tbody tr th:only-of-type {\n",
       "        vertical-align: middle;\n",
       "    }\n",
       "\n",
       "    .dataframe tbody tr th {\n",
       "        vertical-align: top;\n",
       "    }\n",
       "\n",
       "    .dataframe thead th {\n",
       "        text-align: right;\n",
       "    }\n",
       "</style>\n",
       "<table border=\"1\" class=\"dataframe\">\n",
       "  <thead>\n",
       "    <tr style=\"text-align: right;\">\n",
       "      <th></th>\n",
       "      <th>Date</th>\n",
       "      <th>Close/Last</th>\n",
       "      <th>Volume</th>\n",
       "      <th>Open</th>\n",
       "      <th>High</th>\n",
       "      <th>Low</th>\n",
       "    </tr>\n",
       "  </thead>\n",
       "  <tbody>\n",
       "    <tr>\n",
       "      <th>0</th>\n",
       "      <td>09/03/2021</td>\n",
       "      <td>$3478.05</td>\n",
       "      <td>2578324</td>\n",
       "      <td>$3452</td>\n",
       "      <td>$3482.67</td>\n",
       "      <td>$3436.44</td>\n",
       "    </tr>\n",
       "    <tr>\n",
       "      <th>1</th>\n",
       "      <td>09/02/2021</td>\n",
       "      <td>$3463.12</td>\n",
       "      <td>2925594</td>\n",
       "      <td>$3494.76</td>\n",
       "      <td>$3511.9608</td>\n",
       "      <td>$3455</td>\n",
       "    </tr>\n",
       "    <tr>\n",
       "      <th>2</th>\n",
       "      <td>09/01/2021</td>\n",
       "      <td>$3479</td>\n",
       "      <td>3629911</td>\n",
       "      <td>$3496.396</td>\n",
       "      <td>$3527</td>\n",
       "      <td>$3475.24</td>\n",
       "    </tr>\n",
       "    <tr>\n",
       "      <th>3</th>\n",
       "      <td>08/31/2021</td>\n",
       "      <td>$3470.79</td>\n",
       "      <td>4356413</td>\n",
       "      <td>$3424.8</td>\n",
       "      <td>$3472.58</td>\n",
       "      <td>$3395.59</td>\n",
       "    </tr>\n",
       "    <tr>\n",
       "      <th>4</th>\n",
       "      <td>08/30/2021</td>\n",
       "      <td>$3421.57</td>\n",
       "      <td>3192244</td>\n",
       "      <td>$3357.425</td>\n",
       "      <td>$3445</td>\n",
       "      <td>$3355.22</td>\n",
       "    </tr>\n",
       "  </tbody>\n",
       "</table>\n",
       "</div>"
      ],
      "text/plain": [
       "         Date Close/Last   Volume       Open        High       Low\n",
       "0  09/03/2021   $3478.05  2578324      $3452    $3482.67  $3436.44\n",
       "1  09/02/2021   $3463.12  2925594   $3494.76  $3511.9608     $3455\n",
       "2  09/01/2021      $3479  3629911  $3496.396       $3527  $3475.24\n",
       "3  08/31/2021   $3470.79  4356413    $3424.8    $3472.58  $3395.59\n",
       "4  08/30/2021   $3421.57  3192244  $3357.425       $3445  $3355.22"
      ]
     },
     "execution_count": 3,
     "metadata": {},
     "output_type": "execute_result"
    }
   ],
   "source": [
    "data.head()"
   ]
  },
  {
   "cell_type": "code",
   "execution_count": 29,
   "id": "9190aa72",
   "metadata": {},
   "outputs": [
    {
     "data": {
      "text/html": [
       "<div>\n",
       "<style scoped>\n",
       "    .dataframe tbody tr th:only-of-type {\n",
       "        vertical-align: middle;\n",
       "    }\n",
       "\n",
       "    .dataframe tbody tr th {\n",
       "        vertical-align: top;\n",
       "    }\n",
       "\n",
       "    .dataframe thead th {\n",
       "        text-align: right;\n",
       "    }\n",
       "</style>\n",
       "<table border=\"1\" class=\"dataframe\">\n",
       "  <thead>\n",
       "    <tr style=\"text-align: right;\">\n",
       "      <th></th>\n",
       "      <th>Date</th>\n",
       "      <th>Close</th>\n",
       "      <th>Volume</th>\n",
       "      <th>Open</th>\n",
       "      <th>High</th>\n",
       "      <th>Low</th>\n",
       "    </tr>\n",
       "  </thead>\n",
       "  <tbody>\n",
       "    <tr>\n",
       "      <th>2512</th>\n",
       "      <td>09/12/2011</td>\n",
       "      <td>216.56</td>\n",
       "      <td>5337533</td>\n",
       "      <td>208.75</td>\n",
       "      <td>216.66</td>\n",
       "      <td>208.65</td>\n",
       "    </tr>\n",
       "    <tr>\n",
       "      <th>2513</th>\n",
       "      <td>09/09/2011</td>\n",
       "      <td>211.39</td>\n",
       "      <td>4567795</td>\n",
       "      <td>215.05</td>\n",
       "      <td>216.96</td>\n",
       "      <td>209.75</td>\n",
       "    </tr>\n",
       "    <tr>\n",
       "      <th>2514</th>\n",
       "      <td>09/08/2011</td>\n",
       "      <td>217.26</td>\n",
       "      <td>4396425</td>\n",
       "      <td>218.3</td>\n",
       "      <td>220.64</td>\n",
       "      <td>216.34</td>\n",
       "    </tr>\n",
       "    <tr>\n",
       "      <th>2515</th>\n",
       "      <td>09/07/2011</td>\n",
       "      <td>219.9</td>\n",
       "      <td>5292658</td>\n",
       "      <td>218.8</td>\n",
       "      <td>220.19</td>\n",
       "      <td>214.22</td>\n",
       "    </tr>\n",
       "    <tr>\n",
       "      <th>2516</th>\n",
       "      <td>09/06/2011</td>\n",
       "      <td>216.18</td>\n",
       "      <td>6213971</td>\n",
       "      <td>204.77</td>\n",
       "      <td>216.6</td>\n",
       "      <td>204.47</td>\n",
       "    </tr>\n",
       "  </tbody>\n",
       "</table>\n",
       "</div>"
      ],
      "text/plain": [
       "            Date   Close   Volume    Open    High     Low\n",
       "2512  09/12/2011  216.56  5337533  208.75  216.66  208.65\n",
       "2513  09/09/2011  211.39  4567795  215.05  216.96  209.75\n",
       "2514  09/08/2011  217.26  4396425   218.3  220.64  216.34\n",
       "2515  09/07/2011   219.9  5292658   218.8  220.19  214.22\n",
       "2516  09/06/2011  216.18  6213971  204.77   216.6  204.47"
      ]
     },
     "execution_count": 29,
     "metadata": {},
     "output_type": "execute_result"
    }
   ],
   "source": [
    "data.tail()"
   ]
  },
  {
   "cell_type": "code",
   "execution_count": null,
   "id": "1ced6a84",
   "metadata": {},
   "outputs": [],
   "source": []
  },
  {
   "cell_type": "code",
   "execution_count": 4,
   "id": "d6ae426f",
   "metadata": {},
   "outputs": [
    {
     "data": {
      "text/plain": [
       "Date          object\n",
       "Close/Last    object\n",
       "Volume         int64\n",
       "Open          object\n",
       "High          object\n",
       "Low           object\n",
       "dtype: object"
      ]
     },
     "execution_count": 4,
     "metadata": {},
     "output_type": "execute_result"
    }
   ],
   "source": [
    "data.dtypes"
   ]
  },
  {
   "cell_type": "code",
   "execution_count": 5,
   "id": "2268181b",
   "metadata": {},
   "outputs": [],
   "source": [
    "data = data.replace({'\\$':''}, regex = True) #replacing dollar sign "
   ]
  },
  {
   "cell_type": "code",
   "execution_count": 6,
   "id": "40dce13b",
   "metadata": {},
   "outputs": [
    {
     "data": {
      "text/html": [
       "<div>\n",
       "<style scoped>\n",
       "    .dataframe tbody tr th:only-of-type {\n",
       "        vertical-align: middle;\n",
       "    }\n",
       "\n",
       "    .dataframe tbody tr th {\n",
       "        vertical-align: top;\n",
       "    }\n",
       "\n",
       "    .dataframe thead th {\n",
       "        text-align: right;\n",
       "    }\n",
       "</style>\n",
       "<table border=\"1\" class=\"dataframe\">\n",
       "  <thead>\n",
       "    <tr style=\"text-align: right;\">\n",
       "      <th></th>\n",
       "      <th>Date</th>\n",
       "      <th>Close/Last</th>\n",
       "      <th>Volume</th>\n",
       "      <th>Open</th>\n",
       "      <th>High</th>\n",
       "      <th>Low</th>\n",
       "    </tr>\n",
       "  </thead>\n",
       "  <tbody>\n",
       "    <tr>\n",
       "      <th>0</th>\n",
       "      <td>09/03/2021</td>\n",
       "      <td>3478.05</td>\n",
       "      <td>2578324</td>\n",
       "      <td>3452</td>\n",
       "      <td>3482.67</td>\n",
       "      <td>3436.44</td>\n",
       "    </tr>\n",
       "    <tr>\n",
       "      <th>1</th>\n",
       "      <td>09/02/2021</td>\n",
       "      <td>3463.12</td>\n",
       "      <td>2925594</td>\n",
       "      <td>3494.76</td>\n",
       "      <td>3511.9608</td>\n",
       "      <td>3455</td>\n",
       "    </tr>\n",
       "    <tr>\n",
       "      <th>2</th>\n",
       "      <td>09/01/2021</td>\n",
       "      <td>3479</td>\n",
       "      <td>3629911</td>\n",
       "      <td>3496.396</td>\n",
       "      <td>3527</td>\n",
       "      <td>3475.24</td>\n",
       "    </tr>\n",
       "    <tr>\n",
       "      <th>3</th>\n",
       "      <td>08/31/2021</td>\n",
       "      <td>3470.79</td>\n",
       "      <td>4356413</td>\n",
       "      <td>3424.8</td>\n",
       "      <td>3472.58</td>\n",
       "      <td>3395.59</td>\n",
       "    </tr>\n",
       "    <tr>\n",
       "      <th>4</th>\n",
       "      <td>08/30/2021</td>\n",
       "      <td>3421.57</td>\n",
       "      <td>3192244</td>\n",
       "      <td>3357.425</td>\n",
       "      <td>3445</td>\n",
       "      <td>3355.22</td>\n",
       "    </tr>\n",
       "  </tbody>\n",
       "</table>\n",
       "</div>"
      ],
      "text/plain": [
       "         Date Close/Last   Volume      Open       High      Low\n",
       "0  09/03/2021    3478.05  2578324      3452    3482.67  3436.44\n",
       "1  09/02/2021    3463.12  2925594   3494.76  3511.9608     3455\n",
       "2  09/01/2021       3479  3629911  3496.396       3527  3475.24\n",
       "3  08/31/2021    3470.79  4356413    3424.8    3472.58  3395.59\n",
       "4  08/30/2021    3421.57  3192244  3357.425       3445  3355.22"
      ]
     },
     "execution_count": 6,
     "metadata": {},
     "output_type": "execute_result"
    }
   ],
   "source": [
    "data.head()"
   ]
  },
  {
   "cell_type": "code",
   "execution_count": 7,
   "id": "059aaa5a",
   "metadata": {},
   "outputs": [],
   "source": [
    "df = data"
   ]
  },
  {
   "cell_type": "code",
   "execution_count": null,
   "id": "5e5b34e8",
   "metadata": {},
   "outputs": [],
   "source": []
  },
  {
   "cell_type": "code",
   "execution_count": 8,
   "id": "47cf1a98",
   "metadata": {},
   "outputs": [],
   "source": [
    "df.columns = ['Date','Close', 'Volume', 'Open', 'High', 'Low'] "
   ]
  },
  {
   "cell_type": "code",
   "execution_count": 9,
   "id": "3297bb37",
   "metadata": {},
   "outputs": [],
   "source": [
    "# Converting data types\n",
    "df = df.astype({\"Close\": float, \"Volume\": int, \"Open\": float, \"High\": float, \"Low\": float})"
   ]
  },
  {
   "cell_type": "code",
   "execution_count": null,
   "id": "aabef917",
   "metadata": {},
   "outputs": [],
   "source": []
  },
  {
   "cell_type": "code",
   "execution_count": 10,
   "id": "8f989776",
   "metadata": {},
   "outputs": [
    {
     "data": {
      "text/plain": [
       "Date       object\n",
       "Close     float64\n",
       "Volume      int32\n",
       "Open      float64\n",
       "High      float64\n",
       "Low       float64\n",
       "dtype: object"
      ]
     },
     "execution_count": 10,
     "metadata": {},
     "output_type": "execute_result"
    }
   ],
   "source": [
    "df.dtypes"
   ]
  },
  {
   "cell_type": "code",
   "execution_count": null,
   "id": "354087f3",
   "metadata": {},
   "outputs": [],
   "source": []
  },
  {
   "cell_type": "code",
   "execution_count": 11,
   "id": "62c1c78e",
   "metadata": {},
   "outputs": [
    {
     "data": {
      "text/html": [
       "<div>\n",
       "<style scoped>\n",
       "    .dataframe tbody tr th:only-of-type {\n",
       "        vertical-align: middle;\n",
       "    }\n",
       "\n",
       "    .dataframe tbody tr th {\n",
       "        vertical-align: top;\n",
       "    }\n",
       "\n",
       "    .dataframe thead th {\n",
       "        text-align: right;\n",
       "    }\n",
       "</style>\n",
       "<table border=\"1\" class=\"dataframe\">\n",
       "  <thead>\n",
       "    <tr style=\"text-align: right;\">\n",
       "      <th></th>\n",
       "      <th>Close</th>\n",
       "      <th>Volume</th>\n",
       "      <th>Open</th>\n",
       "      <th>High</th>\n",
       "      <th>Low</th>\n",
       "    </tr>\n",
       "  </thead>\n",
       "  <tbody>\n",
       "    <tr>\n",
       "      <th>count</th>\n",
       "      <td>2517.000000</td>\n",
       "      <td>2.517000e+03</td>\n",
       "      <td>2517.000000</td>\n",
       "      <td>2517.000000</td>\n",
       "      <td>2517.000000</td>\n",
       "    </tr>\n",
       "    <tr>\n",
       "      <th>mean</th>\n",
       "      <td>1141.919968</td>\n",
       "      <td>4.158689e+06</td>\n",
       "      <td>1142.261255</td>\n",
       "      <td>1153.998448</td>\n",
       "      <td>1129.018454</td>\n",
       "    </tr>\n",
       "    <tr>\n",
       "      <th>std</th>\n",
       "      <td>988.984576</td>\n",
       "      <td>2.274758e+06</td>\n",
       "      <td>989.701158</td>\n",
       "      <td>1000.263663</td>\n",
       "      <td>977.582357</td>\n",
       "    </tr>\n",
       "    <tr>\n",
       "      <th>min</th>\n",
       "      <td>173.100000</td>\n",
       "      <td>8.813370e+05</td>\n",
       "      <td>169.620000</td>\n",
       "      <td>174.550000</td>\n",
       "      <td>166.970000</td>\n",
       "    </tr>\n",
       "    <tr>\n",
       "      <th>25%</th>\n",
       "      <td>316.500000</td>\n",
       "      <td>2.713773e+06</td>\n",
       "      <td>316.700000</td>\n",
       "      <td>320.380000</td>\n",
       "      <td>312.640000</td>\n",
       "    </tr>\n",
       "    <tr>\n",
       "      <th>50%</th>\n",
       "      <td>760.770000</td>\n",
       "      <td>3.557422e+06</td>\n",
       "      <td>763.310000</td>\n",
       "      <td>767.399900</td>\n",
       "      <td>757.060000</td>\n",
       "    </tr>\n",
       "    <tr>\n",
       "      <th>75%</th>\n",
       "      <td>1776.660000</td>\n",
       "      <td>4.874135e+06</td>\n",
       "      <td>1775.730000</td>\n",
       "      <td>1792.860000</td>\n",
       "      <td>1757.050000</td>\n",
       "    </tr>\n",
       "    <tr>\n",
       "      <th>max</th>\n",
       "      <td>3731.410000</td>\n",
       "      <td>2.412413e+07</td>\n",
       "      <td>3744.000000</td>\n",
       "      <td>3773.078200</td>\n",
       "      <td>3696.792900</td>\n",
       "    </tr>\n",
       "  </tbody>\n",
       "</table>\n",
       "</div>"
      ],
      "text/plain": [
       "             Close        Volume         Open         High          Low\n",
       "count  2517.000000  2.517000e+03  2517.000000  2517.000000  2517.000000\n",
       "mean   1141.919968  4.158689e+06  1142.261255  1153.998448  1129.018454\n",
       "std     988.984576  2.274758e+06   989.701158  1000.263663   977.582357\n",
       "min     173.100000  8.813370e+05   169.620000   174.550000   166.970000\n",
       "25%     316.500000  2.713773e+06   316.700000   320.380000   312.640000\n",
       "50%     760.770000  3.557422e+06   763.310000   767.399900   757.060000\n",
       "75%    1776.660000  4.874135e+06  1775.730000  1792.860000  1757.050000\n",
       "max    3731.410000  2.412413e+07  3744.000000  3773.078200  3696.792900"
      ]
     },
     "execution_count": 11,
     "metadata": {},
     "output_type": "execute_result"
    }
   ],
   "source": [
    "df.describe()"
   ]
  },
  {
   "cell_type": "code",
   "execution_count": null,
   "id": "af7eaebc",
   "metadata": {},
   "outputs": [],
   "source": []
  },
  {
   "cell_type": "code",
   "execution_count": 12,
   "id": "a04d6735",
   "metadata": {},
   "outputs": [],
   "source": [
    "mask_closeprice = df.Close > 3000 "
   ]
  },
  {
   "cell_type": "code",
   "execution_count": 13,
   "id": "e31f350b",
   "metadata": {},
   "outputs": [],
   "source": [
    "high_price = df.loc[mask_closeprice] "
   ]
  },
  {
   "cell_type": "code",
   "execution_count": 14,
   "id": "25d1afcb",
   "metadata": {},
   "outputs": [
    {
     "data": {
      "text/html": [
       "<div>\n",
       "<style scoped>\n",
       "    .dataframe tbody tr th:only-of-type {\n",
       "        vertical-align: middle;\n",
       "    }\n",
       "\n",
       "    .dataframe tbody tr th {\n",
       "        vertical-align: top;\n",
       "    }\n",
       "\n",
       "    .dataframe thead th {\n",
       "        text-align: right;\n",
       "    }\n",
       "</style>\n",
       "<table border=\"1\" class=\"dataframe\">\n",
       "  <thead>\n",
       "    <tr style=\"text-align: right;\">\n",
       "      <th></th>\n",
       "      <th>Date</th>\n",
       "      <th>Close</th>\n",
       "      <th>Volume</th>\n",
       "      <th>Open</th>\n",
       "      <th>High</th>\n",
       "      <th>Low</th>\n",
       "    </tr>\n",
       "  </thead>\n",
       "  <tbody>\n",
       "    <tr>\n",
       "      <th>0</th>\n",
       "      <td>09/03/2021</td>\n",
       "      <td>3478.05</td>\n",
       "      <td>2578324</td>\n",
       "      <td>3452.000</td>\n",
       "      <td>3482.6700</td>\n",
       "      <td>3436.44</td>\n",
       "    </tr>\n",
       "    <tr>\n",
       "      <th>1</th>\n",
       "      <td>09/02/2021</td>\n",
       "      <td>3463.12</td>\n",
       "      <td>2925594</td>\n",
       "      <td>3494.760</td>\n",
       "      <td>3511.9608</td>\n",
       "      <td>3455.00</td>\n",
       "    </tr>\n",
       "    <tr>\n",
       "      <th>2</th>\n",
       "      <td>09/01/2021</td>\n",
       "      <td>3479.00</td>\n",
       "      <td>3629911</td>\n",
       "      <td>3496.396</td>\n",
       "      <td>3527.0000</td>\n",
       "      <td>3475.24</td>\n",
       "    </tr>\n",
       "    <tr>\n",
       "      <th>3</th>\n",
       "      <td>08/31/2021</td>\n",
       "      <td>3470.79</td>\n",
       "      <td>4356413</td>\n",
       "      <td>3424.800</td>\n",
       "      <td>3472.5800</td>\n",
       "      <td>3395.59</td>\n",
       "    </tr>\n",
       "    <tr>\n",
       "      <th>4</th>\n",
       "      <td>08/30/2021</td>\n",
       "      <td>3421.57</td>\n",
       "      <td>3192244</td>\n",
       "      <td>3357.425</td>\n",
       "      <td>3445.0000</td>\n",
       "      <td>3355.22</td>\n",
       "    </tr>\n",
       "  </tbody>\n",
       "</table>\n",
       "</div>"
      ],
      "text/plain": [
       "         Date    Close   Volume      Open       High      Low\n",
       "0  09/03/2021  3478.05  2578324  3452.000  3482.6700  3436.44\n",
       "1  09/02/2021  3463.12  2925594  3494.760  3511.9608  3455.00\n",
       "2  09/01/2021  3479.00  3629911  3496.396  3527.0000  3475.24\n",
       "3  08/31/2021  3470.79  4356413  3424.800  3472.5800  3395.59\n",
       "4  08/30/2021  3421.57  3192244  3357.425  3445.0000  3355.22"
      ]
     },
     "execution_count": 14,
     "metadata": {},
     "output_type": "execute_result"
    }
   ],
   "source": [
    "high_price.head()"
   ]
  },
  {
   "cell_type": "markdown",
   "id": "b60cfaa9",
   "metadata": {},
   "source": [
    "# Filtering the Data\n"
   ]
  },
  {
   "cell_type": "code",
   "execution_count": 15,
   "id": "2b9c1aa5",
   "metadata": {},
   "outputs": [],
   "source": [
    "# Closing price more than 3000 and traded volume more than 5\n",
    "mask_closeprice = df.Close > 3000 \n",
    "mask_volume = df.Volume > 5000000\n",
    "millionhigh_price_volume = df.loc[mask_closeprice & mask_volume]"
   ]
  },
  {
   "cell_type": "code",
   "execution_count": 16,
   "id": "20501e3a",
   "metadata": {},
   "outputs": [],
   "source": [
    "millionhigh_price_volume.head()"
   ]
  },
  {
   "cell_type": "code",
   "execution_count": 18,
   "id": "948c9959",
   "metadata": {},
   "outputs": [
    {
     "data": {
      "text/html": [
       "<div>\n",
       "<style scoped>\n",
       "    .dataframe tbody tr th:only-of-type {\n",
       "        vertical-align: middle;\n",
       "    }\n",
       "\n",
       "    .dataframe tbody tr th {\n",
       "        vertical-align: top;\n",
       "    }\n",
       "\n",
       "    .dataframe thead th {\n",
       "        text-align: right;\n",
       "    }\n",
       "</style>\n",
       "<table border=\"1\" class=\"dataframe\">\n",
       "  <thead>\n",
       "    <tr style=\"text-align: right;\">\n",
       "      <th></th>\n",
       "      <th>Date</th>\n",
       "      <th>Close</th>\n",
       "      <th>Volume</th>\n",
       "      <th>Open</th>\n",
       "      <th>High</th>\n",
       "      <th>Low</th>\n",
       "    </tr>\n",
       "  </thead>\n",
       "  <tbody>\n",
       "    <tr>\n",
       "      <th>25</th>\n",
       "      <td>07/30/2021</td>\n",
       "      <td>3327.59</td>\n",
       "      <td>9965593</td>\n",
       "      <td>3347.950</td>\n",
       "      <td>3368.1400</td>\n",
       "      <td>3306.98</td>\n",
       "    </tr>\n",
       "    <tr>\n",
       "      <th>26</th>\n",
       "      <td>07/29/2021</td>\n",
       "      <td>3599.92</td>\n",
       "      <td>5519952</td>\n",
       "      <td>3627.750</td>\n",
       "      <td>3637.9500</td>\n",
       "      <td>3580.01</td>\n",
       "    </tr>\n",
       "    <tr>\n",
       "      <th>41</th>\n",
       "      <td>07/08/2021</td>\n",
       "      <td>3731.41</td>\n",
       "      <td>5180623</td>\n",
       "      <td>3643.560</td>\n",
       "      <td>3759.9855</td>\n",
       "      <td>3621.12</td>\n",
       "    </tr>\n",
       "    <tr>\n",
       "      <th>42</th>\n",
       "      <td>07/07/2021</td>\n",
       "      <td>3696.58</td>\n",
       "      <td>5328062</td>\n",
       "      <td>3717.377</td>\n",
       "      <td>3734.2000</td>\n",
       "      <td>3678.91</td>\n",
       "    </tr>\n",
       "    <tr>\n",
       "      <th>43</th>\n",
       "      <td>07/06/2021</td>\n",
       "      <td>3675.74</td>\n",
       "      <td>6744768</td>\n",
       "      <td>3530.110</td>\n",
       "      <td>3685.4800</td>\n",
       "      <td>3529.00</td>\n",
       "    </tr>\n",
       "  </tbody>\n",
       "</table>\n",
       "</div>"
      ],
      "text/plain": [
       "          Date    Close   Volume      Open       High      Low\n",
       "25  07/30/2021  3327.59  9965593  3347.950  3368.1400  3306.98\n",
       "26  07/29/2021  3599.92  5519952  3627.750  3637.9500  3580.01\n",
       "41  07/08/2021  3731.41  5180623  3643.560  3759.9855  3621.12\n",
       "42  07/07/2021  3696.58  5328062  3717.377  3734.2000  3678.91\n",
       "43  07/06/2021  3675.74  6744768  3530.110  3685.4800  3529.00"
      ]
     },
     "execution_count": 18,
     "metadata": {},
     "output_type": "execute_result"
    }
   ],
   "source": []
  },
  {
   "cell_type": "code",
   "execution_count": 19,
   "id": "0b7a7c23",
   "metadata": {},
   "outputs": [
    {
     "data": {
      "text/html": [
       "<div>\n",
       "<style scoped>\n",
       "    .dataframe tbody tr th:only-of-type {\n",
       "        vertical-align: middle;\n",
       "    }\n",
       "\n",
       "    .dataframe tbody tr th {\n",
       "        vertical-align: top;\n",
       "    }\n",
       "\n",
       "    .dataframe thead th {\n",
       "        text-align: right;\n",
       "    }\n",
       "</style>\n",
       "<table border=\"1\" class=\"dataframe\">\n",
       "  <thead>\n",
       "    <tr style=\"text-align: right;\">\n",
       "      <th></th>\n",
       "      <th>Date</th>\n",
       "      <th>Close</th>\n",
       "      <th>Volume</th>\n",
       "      <th>Open</th>\n",
       "      <th>High</th>\n",
       "      <th>Low</th>\n",
       "    </tr>\n",
       "  </thead>\n",
       "  <tbody>\n",
       "    <tr>\n",
       "      <th>0</th>\n",
       "      <td>09/03/2021</td>\n",
       "      <td>3478.05</td>\n",
       "      <td>2578324</td>\n",
       "      <td>3452.000</td>\n",
       "      <td>3482.6700</td>\n",
       "      <td>3436.44</td>\n",
       "    </tr>\n",
       "    <tr>\n",
       "      <th>1</th>\n",
       "      <td>09/02/2021</td>\n",
       "      <td>3463.12</td>\n",
       "      <td>2925594</td>\n",
       "      <td>3494.760</td>\n",
       "      <td>3511.9608</td>\n",
       "      <td>3455.00</td>\n",
       "    </tr>\n",
       "    <tr>\n",
       "      <th>2</th>\n",
       "      <td>09/01/2021</td>\n",
       "      <td>3479.00</td>\n",
       "      <td>3629911</td>\n",
       "      <td>3496.396</td>\n",
       "      <td>3527.0000</td>\n",
       "      <td>3475.24</td>\n",
       "    </tr>\n",
       "    <tr>\n",
       "      <th>3</th>\n",
       "      <td>08/31/2021</td>\n",
       "      <td>3470.79</td>\n",
       "      <td>4356413</td>\n",
       "      <td>3424.800</td>\n",
       "      <td>3472.5800</td>\n",
       "      <td>3395.59</td>\n",
       "    </tr>\n",
       "    <tr>\n",
       "      <th>4</th>\n",
       "      <td>08/30/2021</td>\n",
       "      <td>3421.57</td>\n",
       "      <td>3192244</td>\n",
       "      <td>3357.425</td>\n",
       "      <td>3445.0000</td>\n",
       "      <td>3355.22</td>\n",
       "    </tr>\n",
       "  </tbody>\n",
       "</table>\n",
       "</div>"
      ],
      "text/plain": [
       "         Date    Close   Volume      Open       High      Low\n",
       "0  09/03/2021  3478.05  2578324  3452.000  3482.6700  3436.44\n",
       "1  09/02/2021  3463.12  2925594  3494.760  3511.9608  3455.00\n",
       "2  09/01/2021  3479.00  3629911  3496.396  3527.0000  3475.24\n",
       "3  08/31/2021  3470.79  4356413  3424.800  3472.5800  3395.59\n",
       "4  08/30/2021  3421.57  3192244  3357.425  3445.0000  3355.22"
      ]
     },
     "execution_count": 19,
     "metadata": {},
     "output_type": "execute_result"
    }
   ],
   "source": [
    "df.head()"
   ]
  },
  {
   "cell_type": "code",
   "execution_count": 20,
   "id": "bce29de0",
   "metadata": {},
   "outputs": [
    {
     "data": {
      "text/html": [
       "<div>\n",
       "<style scoped>\n",
       "    .dataframe tbody tr th:only-of-type {\n",
       "        vertical-align: middle;\n",
       "    }\n",
       "\n",
       "    .dataframe tbody tr th {\n",
       "        vertical-align: top;\n",
       "    }\n",
       "\n",
       "    .dataframe thead th {\n",
       "        text-align: right;\n",
       "    }\n",
       "</style>\n",
       "<table border=\"1\" class=\"dataframe\">\n",
       "  <thead>\n",
       "    <tr style=\"text-align: right;\">\n",
       "      <th></th>\n",
       "      <th>Close</th>\n",
       "      <th>Open</th>\n",
       "      <th>High</th>\n",
       "      <th>Low</th>\n",
       "    </tr>\n",
       "  </thead>\n",
       "  <tbody>\n",
       "    <tr>\n",
       "      <th>count</th>\n",
       "      <td>2517.000000</td>\n",
       "      <td>2517.000000</td>\n",
       "      <td>2517.000000</td>\n",
       "      <td>2517.000000</td>\n",
       "    </tr>\n",
       "    <tr>\n",
       "      <th>mean</th>\n",
       "      <td>1141.919968</td>\n",
       "      <td>1142.261255</td>\n",
       "      <td>1153.998448</td>\n",
       "      <td>1129.018454</td>\n",
       "    </tr>\n",
       "    <tr>\n",
       "      <th>std</th>\n",
       "      <td>988.984576</td>\n",
       "      <td>989.701158</td>\n",
       "      <td>1000.263663</td>\n",
       "      <td>977.582357</td>\n",
       "    </tr>\n",
       "    <tr>\n",
       "      <th>min</th>\n",
       "      <td>173.100000</td>\n",
       "      <td>169.620000</td>\n",
       "      <td>174.550000</td>\n",
       "      <td>166.970000</td>\n",
       "    </tr>\n",
       "    <tr>\n",
       "      <th>25%</th>\n",
       "      <td>316.500000</td>\n",
       "      <td>316.700000</td>\n",
       "      <td>320.380000</td>\n",
       "      <td>312.640000</td>\n",
       "    </tr>\n",
       "    <tr>\n",
       "      <th>50%</th>\n",
       "      <td>760.770000</td>\n",
       "      <td>763.310000</td>\n",
       "      <td>767.399900</td>\n",
       "      <td>757.060000</td>\n",
       "    </tr>\n",
       "    <tr>\n",
       "      <th>75%</th>\n",
       "      <td>1776.660000</td>\n",
       "      <td>1775.730000</td>\n",
       "      <td>1792.860000</td>\n",
       "      <td>1757.050000</td>\n",
       "    </tr>\n",
       "    <tr>\n",
       "      <th>max</th>\n",
       "      <td>3731.410000</td>\n",
       "      <td>3744.000000</td>\n",
       "      <td>3773.078200</td>\n",
       "      <td>3696.792900</td>\n",
       "    </tr>\n",
       "  </tbody>\n",
       "</table>\n",
       "</div>"
      ],
      "text/plain": [
       "             Close         Open         High          Low\n",
       "count  2517.000000  2517.000000  2517.000000  2517.000000\n",
       "mean   1141.919968  1142.261255  1153.998448  1129.018454\n",
       "std     988.984576   989.701158  1000.263663   977.582357\n",
       "min     173.100000   169.620000   174.550000   166.970000\n",
       "25%     316.500000   316.700000   320.380000   312.640000\n",
       "50%     760.770000   763.310000   767.399900   757.060000\n",
       "75%    1776.660000  1775.730000  1792.860000  1757.050000\n",
       "max    3731.410000  3744.000000  3773.078200  3696.792900"
      ]
     },
     "execution_count": 20,
     "metadata": {},
     "output_type": "execute_result"
    }
   ],
   "source": [
    "df.describe(include = \"float\")"
   ]
  },
  {
   "cell_type": "code",
   "execution_count": 21,
   "id": "f4de998d",
   "metadata": {},
   "outputs": [
    {
     "data": {
      "text/html": [
       "<div>\n",
       "<style scoped>\n",
       "    .dataframe tbody tr th:only-of-type {\n",
       "        vertical-align: middle;\n",
       "    }\n",
       "\n",
       "    .dataframe tbody tr th {\n",
       "        vertical-align: top;\n",
       "    }\n",
       "\n",
       "    .dataframe thead th {\n",
       "        text-align: right;\n",
       "    }\n",
       "</style>\n",
       "<table border=\"1\" class=\"dataframe\">\n",
       "  <thead>\n",
       "    <tr style=\"text-align: right;\">\n",
       "      <th></th>\n",
       "      <th>Date</th>\n",
       "    </tr>\n",
       "  </thead>\n",
       "  <tbody>\n",
       "    <tr>\n",
       "      <th>count</th>\n",
       "      <td>2517</td>\n",
       "    </tr>\n",
       "    <tr>\n",
       "      <th>unique</th>\n",
       "      <td>2517</td>\n",
       "    </tr>\n",
       "    <tr>\n",
       "      <th>top</th>\n",
       "      <td>10/22/2014</td>\n",
       "    </tr>\n",
       "    <tr>\n",
       "      <th>freq</th>\n",
       "      <td>1</td>\n",
       "    </tr>\n",
       "  </tbody>\n",
       "</table>\n",
       "</div>"
      ],
      "text/plain": [
       "              Date\n",
       "count         2517\n",
       "unique        2517\n",
       "top     10/22/2014\n",
       "freq             1"
      ]
     },
     "execution_count": 21,
     "metadata": {},
     "output_type": "execute_result"
    }
   ],
   "source": [
    "df.describe(include = \"object\")"
   ]
  },
  {
   "cell_type": "code",
   "execution_count": 22,
   "id": "e81c4e08",
   "metadata": {},
   "outputs": [
    {
     "data": {
      "text/html": [
       "<div>\n",
       "<style scoped>\n",
       "    .dataframe tbody tr th:only-of-type {\n",
       "        vertical-align: middle;\n",
       "    }\n",
       "\n",
       "    .dataframe tbody tr th {\n",
       "        vertical-align: top;\n",
       "    }\n",
       "\n",
       "    .dataframe thead th {\n",
       "        text-align: right;\n",
       "    }\n",
       "</style>\n",
       "<table border=\"1\" class=\"dataframe\">\n",
       "  <thead>\n",
       "    <tr style=\"text-align: right;\">\n",
       "      <th></th>\n",
       "      <th>Date</th>\n",
       "      <th>Close</th>\n",
       "      <th>Open</th>\n",
       "      <th>High</th>\n",
       "      <th>Low</th>\n",
       "    </tr>\n",
       "  </thead>\n",
       "  <tbody>\n",
       "    <tr>\n",
       "      <th>count</th>\n",
       "      <td>2517</td>\n",
       "      <td>2517.000000</td>\n",
       "      <td>2517.000000</td>\n",
       "      <td>2517.000000</td>\n",
       "      <td>2517.000000</td>\n",
       "    </tr>\n",
       "    <tr>\n",
       "      <th>unique</th>\n",
       "      <td>2517</td>\n",
       "      <td>NaN</td>\n",
       "      <td>NaN</td>\n",
       "      <td>NaN</td>\n",
       "      <td>NaN</td>\n",
       "    </tr>\n",
       "    <tr>\n",
       "      <th>top</th>\n",
       "      <td>10/22/2014</td>\n",
       "      <td>NaN</td>\n",
       "      <td>NaN</td>\n",
       "      <td>NaN</td>\n",
       "      <td>NaN</td>\n",
       "    </tr>\n",
       "    <tr>\n",
       "      <th>freq</th>\n",
       "      <td>1</td>\n",
       "      <td>NaN</td>\n",
       "      <td>NaN</td>\n",
       "      <td>NaN</td>\n",
       "      <td>NaN</td>\n",
       "    </tr>\n",
       "    <tr>\n",
       "      <th>mean</th>\n",
       "      <td>NaN</td>\n",
       "      <td>1141.919968</td>\n",
       "      <td>1142.261255</td>\n",
       "      <td>1153.998448</td>\n",
       "      <td>1129.018454</td>\n",
       "    </tr>\n",
       "    <tr>\n",
       "      <th>std</th>\n",
       "      <td>NaN</td>\n",
       "      <td>988.984576</td>\n",
       "      <td>989.701158</td>\n",
       "      <td>1000.263663</td>\n",
       "      <td>977.582357</td>\n",
       "    </tr>\n",
       "    <tr>\n",
       "      <th>min</th>\n",
       "      <td>NaN</td>\n",
       "      <td>173.100000</td>\n",
       "      <td>169.620000</td>\n",
       "      <td>174.550000</td>\n",
       "      <td>166.970000</td>\n",
       "    </tr>\n",
       "    <tr>\n",
       "      <th>25%</th>\n",
       "      <td>NaN</td>\n",
       "      <td>316.500000</td>\n",
       "      <td>316.700000</td>\n",
       "      <td>320.380000</td>\n",
       "      <td>312.640000</td>\n",
       "    </tr>\n",
       "    <tr>\n",
       "      <th>50%</th>\n",
       "      <td>NaN</td>\n",
       "      <td>760.770000</td>\n",
       "      <td>763.310000</td>\n",
       "      <td>767.399900</td>\n",
       "      <td>757.060000</td>\n",
       "    </tr>\n",
       "    <tr>\n",
       "      <th>75%</th>\n",
       "      <td>NaN</td>\n",
       "      <td>1776.660000</td>\n",
       "      <td>1775.730000</td>\n",
       "      <td>1792.860000</td>\n",
       "      <td>1757.050000</td>\n",
       "    </tr>\n",
       "    <tr>\n",
       "      <th>max</th>\n",
       "      <td>NaN</td>\n",
       "      <td>3731.410000</td>\n",
       "      <td>3744.000000</td>\n",
       "      <td>3773.078200</td>\n",
       "      <td>3696.792900</td>\n",
       "    </tr>\n",
       "  </tbody>\n",
       "</table>\n",
       "</div>"
      ],
      "text/plain": [
       "              Date        Close         Open         High          Low\n",
       "count         2517  2517.000000  2517.000000  2517.000000  2517.000000\n",
       "unique        2517          NaN          NaN          NaN          NaN\n",
       "top     10/22/2014          NaN          NaN          NaN          NaN\n",
       "freq             1          NaN          NaN          NaN          NaN\n",
       "mean           NaN  1141.919968  1142.261255  1153.998448  1129.018454\n",
       "std            NaN   988.984576   989.701158  1000.263663   977.582357\n",
       "min            NaN   173.100000   169.620000   174.550000   166.970000\n",
       "25%            NaN   316.500000   316.700000   320.380000   312.640000\n",
       "50%            NaN   760.770000   763.310000   767.399900   757.060000\n",
       "75%            NaN  1776.660000  1775.730000  1792.860000  1757.050000\n",
       "max            NaN  3731.410000  3744.000000  3773.078200  3696.792900"
      ]
     },
     "execution_count": 22,
     "metadata": {},
     "output_type": "execute_result"
    }
   ],
   "source": [
    "df.describe(exclude = \"int\")"
   ]
  },
  {
   "cell_type": "code",
   "execution_count": 23,
   "id": "dac96f1d",
   "metadata": {
    "scrolled": true
   },
   "outputs": [
    {
     "data": {
      "text/html": [
       "<div>\n",
       "<style scoped>\n",
       "    .dataframe tbody tr th:only-of-type {\n",
       "        vertical-align: middle;\n",
       "    }\n",
       "\n",
       "    .dataframe tbody tr th {\n",
       "        vertical-align: top;\n",
       "    }\n",
       "\n",
       "    .dataframe thead th {\n",
       "        text-align: right;\n",
       "    }\n",
       "</style>\n",
       "<table border=\"1\" class=\"dataframe\">\n",
       "  <thead>\n",
       "    <tr style=\"text-align: right;\">\n",
       "      <th></th>\n",
       "      <th>Close</th>\n",
       "      <th>Volume</th>\n",
       "      <th>Open</th>\n",
       "      <th>High</th>\n",
       "      <th>Low</th>\n",
       "    </tr>\n",
       "  </thead>\n",
       "  <tbody>\n",
       "    <tr>\n",
       "      <th>count</th>\n",
       "      <td>2517.000000</td>\n",
       "      <td>2.517000e+03</td>\n",
       "      <td>2517.000000</td>\n",
       "      <td>2517.000000</td>\n",
       "      <td>2517.000000</td>\n",
       "    </tr>\n",
       "    <tr>\n",
       "      <th>mean</th>\n",
       "      <td>1141.919968</td>\n",
       "      <td>4.158689e+06</td>\n",
       "      <td>1142.261255</td>\n",
       "      <td>1153.998448</td>\n",
       "      <td>1129.018454</td>\n",
       "    </tr>\n",
       "    <tr>\n",
       "      <th>std</th>\n",
       "      <td>988.984576</td>\n",
       "      <td>2.274758e+06</td>\n",
       "      <td>989.701158</td>\n",
       "      <td>1000.263663</td>\n",
       "      <td>977.582357</td>\n",
       "    </tr>\n",
       "    <tr>\n",
       "      <th>min</th>\n",
       "      <td>173.100000</td>\n",
       "      <td>8.813370e+05</td>\n",
       "      <td>169.620000</td>\n",
       "      <td>174.550000</td>\n",
       "      <td>166.970000</td>\n",
       "    </tr>\n",
       "    <tr>\n",
       "      <th>10%</th>\n",
       "      <td>237.590000</td>\n",
       "      <td>2.220015e+06</td>\n",
       "      <td>237.066000</td>\n",
       "      <td>240.500000</td>\n",
       "      <td>233.924000</td>\n",
       "    </tr>\n",
       "    <tr>\n",
       "      <th>50%</th>\n",
       "      <td>760.770000</td>\n",
       "      <td>3.557422e+06</td>\n",
       "      <td>763.310000</td>\n",
       "      <td>767.399900</td>\n",
       "      <td>757.060000</td>\n",
       "    </tr>\n",
       "    <tr>\n",
       "      <th>90%</th>\n",
       "      <td>3094.770000</td>\n",
       "      <td>6.728938e+06</td>\n",
       "      <td>3099.270000</td>\n",
       "      <td>3133.330000</td>\n",
       "      <td>3063.604000</td>\n",
       "    </tr>\n",
       "    <tr>\n",
       "      <th>max</th>\n",
       "      <td>3731.410000</td>\n",
       "      <td>2.412413e+07</td>\n",
       "      <td>3744.000000</td>\n",
       "      <td>3773.078200</td>\n",
       "      <td>3696.792900</td>\n",
       "    </tr>\n",
       "  </tbody>\n",
       "</table>\n",
       "</div>"
      ],
      "text/plain": [
       "             Close        Volume         Open         High          Low\n",
       "count  2517.000000  2.517000e+03  2517.000000  2517.000000  2517.000000\n",
       "mean   1141.919968  4.158689e+06  1142.261255  1153.998448  1129.018454\n",
       "std     988.984576  2.274758e+06   989.701158  1000.263663   977.582357\n",
       "min     173.100000  8.813370e+05   169.620000   174.550000   166.970000\n",
       "10%     237.590000  2.220015e+06   237.066000   240.500000   233.924000\n",
       "50%     760.770000  3.557422e+06   763.310000   767.399900   757.060000\n",
       "90%    3094.770000  6.728938e+06  3099.270000  3133.330000  3063.604000\n",
       "max    3731.410000  2.412413e+07  3744.000000  3773.078200  3696.792900"
      ]
     },
     "execution_count": 23,
     "metadata": {},
     "output_type": "execute_result"
    }
   ],
   "source": [
    "df.describe(percentiles = [0.1, 0.5, 0.9])"
   ]
  },
  {
   "cell_type": "markdown",
   "id": "bfa74132",
   "metadata": {},
   "source": [
    "# Data Visualization"
   ]
  },
  {
   "cell_type": "code",
   "execution_count": 24,
   "id": "c63b3b49",
   "metadata": {},
   "outputs": [
    {
     "data": {
      "text/plain": [
       "<AxesSubplot:xlabel='Date'>"
      ]
     },
     "execution_count": 24,
     "metadata": {},
     "output_type": "execute_result"
    },
    {
     "data": {
      "image/png": "[encoded data removed]",
      "text/plain": [
       "<Figure size 432x288 with 1 Axes>"
      ]
     },
     "metadata": {
      "needs_background": "light"
     },
     "output_type": "display_data"
    }
   ],
   "source": [
    "df.plot(x='Date', y='Close')"
   ]
  },
  {
   "cell_type": "code",
   "execution_count": null,
   "id": "4e68a94f",
   "metadata": {},
   "outputs": [],
   "source": []
  },
  {
   "cell_type": "code",
   "execution_count": 25,
   "id": "cf7282ff",
   "metadata": {},
   "outputs": [
    {
     "data": {
      "text/plain": [
       "<AxesSubplot:xlabel='Date'>"
      ]
     },
     "execution_count": 25,
     "metadata": {},
     "output_type": "execute_result"
    },
    {
     "data": {
      "image/png": "[encoded data removed]",
      "text/plain": [
       "<Figure size 432x288 with 1 Axes>"
      ]
     },
     "metadata": {
      "needs_background": "light"
     },
     "output_type": "display_data"
    }
   ],
   "source": [
    "df.plot(x='Date', y='Close', rot=90)"
   ]
  },
  {
   "cell_type": "code",
   "execution_count": 26,
   "id": "5478aa87",
   "metadata": {},
   "outputs": [
    {
     "data": {
      "text/plain": [
       "<AxesSubplot:title={'center':'AMZN Stock Price'}, xlabel='Date'>"
      ]
     },
     "execution_count": 26,
     "metadata": {},
     "output_type": "execute_result"
    },
    {
     "data": {
      "image/png": "[encoded data removed]",
      "text/plain": [
       "<Figure size 432x288 with 1 Axes>"
      ]
     },
     "metadata": {
      "needs_background": "light"
     },
     "output_type": "display_data"
    }
   ],
   "source": [
    "#Observing the trend of closing price with reference to date showing data every 2 years of past 10 years 2011 - 2021\n",
    "df.plot(x='Date', y='Close', rot=90, title=\"AMZN Stock Price\")"
   ]
  },
  {
   "cell_type": "code",
   "execution_count": 28,
   "id": "2d4db885",
   "metadata": {},
   "outputs": [
    {
     "data": {
      "text/plain": [
       "<AxesSubplot:title={'center':'AMZN Stock Price'}, ylabel='Frequency'>"
      ]
     },
     "execution_count": 28,
     "metadata": {},
     "output_type": "execute_result"
    },
    {
     "data": {
      "image/png": "[encoded data removed]",
      "text/plain": [
       "<Figure size 432x288 with 1 Axes>"
      ]
     },
     "metadata": {
      "needs_background": "light"
     },
     "output_type": "display_data"
    }
   ],
   "source": [
    "df.plot(x='Date', y='Volume', kind='hist', rot=90, title=\"AMZN Stock Price\")"
   ]
  },
  {
   "cell_type": "code",
   "execution_count": null,
   "id": "bba20e5f",
   "metadata": {},
   "outputs": [],
   "source": []
  },
  {
   "cell_type": "code",
   "execution_count": null,
   "id": "2f4ae33f",
   "metadata": {},
   "outputs": [],
   "source": []
  }
 ],
 "metadata": {
  "kernelspec": {
   "display_name": "Python 3",
   "language": "python",
   "name": "python3"
  },
  "language_info": {
   "codemirror_mode": {
    "name": "ipython",
    "version": 3
   },
   "file_extension": ".py",
   "mimetype": "text/x-python",
   "name": "python",
   "nbconvert_exporter": "python",
   "pygments_lexer": "ipython3",
   "version": "3.8.8"
  }
 },
 "nbformat": 4,
 "nbformat_minor": 5
}
